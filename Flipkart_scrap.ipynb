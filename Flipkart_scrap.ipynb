{
  "nbformat": 4,
  "nbformat_minor": 0,
  "metadata": {
    "colab": {
      "name": "Flipkart_scrap.ipynb",
      "provenance": []
    },
    "kernelspec": {
      "name": "python3",
      "display_name": "Python 3"
    },
    "language_info": {
      "name": "python"
    }
  },
  "cells": [
    {
      "cell_type": "markdown",
      "source": [
        "We need to follow certain steps for data extraction\n",
        "\n",
        "##Importing necessary libraries like BeautifulSoup, requests, Pandas, csv "
      ],
      "metadata": {
        "id": "aZkZa52e06ii"
      }
    },
    {
      "cell_type": "code",
      "source": [
        "import pandas as pd\n",
        "import bs4\n",
        "from bs4 import BeautifulSoup \n",
        "import requests\n",
        "import csv"
      ],
      "metadata": {
        "id": "F8xAYfNb1RPe"
      },
      "execution_count": 1,
      "outputs": []
    },
    {
      "cell_type": "markdown",
      "source": [
        "Requests is a Python HTTP library.So, basically with the help of this library we make a request to a web page.\n",
        "\n",
        "##URL of the Flipkart website containing laptops information is"
      ],
      "metadata": {
        "id": "o87eka7d1eZG"
      }
    },
    {
      "cell_type": "code",
      "source": [
        "url=\"https://www.flipkart.com/search?q=laptop&sid=6bo%2Cb5g&as=on&as-show=on&otracker=AS_QueryStore_OrganicAutoSuggest_1_6_na_na_na&otracker1=AS_QueryStore_OrganicAutoSuggest_1_6_na_na_na&as-pos=1&as-type=RECENT&suggestionId=laptop%7CLaptops&requestId=7ec220e8-4f02-4150-9e0b-9e90cf692f4b&as-searchtext=laptop\""
      ],
      "metadata": {
        "id": "aZeaC20h1iNW"
      },
      "execution_count": 2,
      "outputs": []
    },
    {
      "cell_type": "code",
      "source": [
        "response = requests.get(url)\n",
        "htmlcontent = response.content\n",
        "soup = BeautifulSoup(htmlcontent,\"html.parser\")"
      ],
      "metadata": {
        "id": "dZD9o3nX2GeF"
      },
      "execution_count": 3,
      "outputs": []
    },
    {
      "cell_type": "markdown",
      "source": [
        "Here we use Beautifulsoup to parse the HTML content with the help of html parser."
      ],
      "metadata": {
        "id": "xx7sA6MD2ZKE"
      }
    },
    {
      "cell_type": "code",
      "source": [
        "print(soup.prettify)"
      ],
      "metadata": {
        "id": "ru72LBay2bM8"
      },
      "execution_count": null,
      "outputs": []
    },
    {
      "cell_type": "markdown",
      "source": [
        "Creating 3 list\n",
        "product name \n",
        "price\n",
        "rating"
      ],
      "metadata": {
        "id": "gsK4MCgn3BL7"
      }
    },
    {
      "cell_type": "code",
      "source": [
        "products = []\n",
        "prices = []\n",
        "ratings = []"
      ],
      "metadata": {
        "id": "iDEreEya3P-z"
      },
      "execution_count": 5,
      "outputs": []
    },
    {
      "cell_type": "markdown",
      "source": [
        " ##For all laptop descriptions we need to write a loop."
      ],
      "metadata": {
        "id": "3lBhRx8h3fcJ"
      }
    },
    {
      "cell_type": "code",
      "source": [
        "for a in soup.findAll('a',href=True, attrs={'class':'_1fQZEK'}):\n",
        "    name=a.find('div',attrs={'class':'_4rR01T'})\n",
        "    price=a.find('div',attrs={'class':'_30jeq3 _1_WHN1'})\n",
        "    rating=a.find('div',attrs={'class':'_3LWZlK'})\n",
        "    products.append(name.text)\n",
        "    prices.append(price.text)\n",
        "    ratings.append(rating.text)"
      ],
      "metadata": {
        "id": "DYnEbnLM3TUh"
      },
      "execution_count": 6,
      "outputs": []
    },
    {
      "cell_type": "markdown",
      "source": [
        "making dataFrame to save the data"
      ],
      "metadata": {
        "id": "0qxw8Z3R390I"
      }
    },
    {
      "cell_type": "code",
      "source": [
        "data = pd.DataFrame({'Product Name':products,'Prices':prices,'Ratings':ratings})\n",
        "data"
      ],
      "metadata": {
        "colab": {
          "base_uri": "https://localhost:8080/",
          "height": 802
        },
        "id": "w_Krtm6V3yRQ",
        "outputId": "32ef8c91-2c62-4ca5-b2ca-ddbad30a9bc5"
      },
      "execution_count": 8,
      "outputs": [
        {
          "output_type": "execute_result",
          "data": {
            "text/html": [
              "<div>\n",
              "<style scoped>\n",
              "    .dataframe tbody tr th:only-of-type {\n",
              "        vertical-align: middle;\n",
              "    }\n",
              "\n",
              "    .dataframe tbody tr th {\n",
              "        vertical-align: top;\n",
              "    }\n",
              "\n",
              "    .dataframe thead th {\n",
              "        text-align: right;\n",
              "    }\n",
              "</style>\n",
              "<table border=\"1\" class=\"dataframe\">\n",
              "  <thead>\n",
              "    <tr style=\"text-align: right;\">\n",
              "      <th></th>\n",
              "      <th>Product Name</th>\n",
              "      <th>Prices</th>\n",
              "      <th>Ratings</th>\n",
              "    </tr>\n",
              "  </thead>\n",
              "  <tbody>\n",
              "    <tr>\n",
              "      <th>0</th>\n",
              "      <td>DELL Inspiron Ryzen 5 Quad Core 3450U - (8 GB/...</td>\n",
              "      <td>₹39,990</td>\n",
              "      <td>4.4</td>\n",
              "    </tr>\n",
              "    <tr>\n",
              "      <th>1</th>\n",
              "      <td>HP Ryzen 3 Dual Core 3250U - (8 GB/256 GB SSD/...</td>\n",
              "      <td>₹38,990</td>\n",
              "      <td>4.4</td>\n",
              "    </tr>\n",
              "    <tr>\n",
              "      <th>2</th>\n",
              "      <td>ASUS VivoBook 15 (2021) Core i3 11th Gen - (4 ...</td>\n",
              "      <td>₹36,990</td>\n",
              "      <td>4.3</td>\n",
              "    </tr>\n",
              "    <tr>\n",
              "      <th>3</th>\n",
              "      <td>acer Aspire 7 Core i5 10th Gen - (8 GB/512 GB ...</td>\n",
              "      <td>₹52,990</td>\n",
              "      <td>4.4</td>\n",
              "    </tr>\n",
              "    <tr>\n",
              "      <th>4</th>\n",
              "      <td>DELL Vostro Core i3 11th Gen - (8 GB/256 GB SS...</td>\n",
              "      <td>₹41,990</td>\n",
              "      <td>4.3</td>\n",
              "    </tr>\n",
              "    <tr>\n",
              "      <th>5</th>\n",
              "      <td>ASUS VivoBook 15 Ryzen 3 Dual Core - (4 GB/256...</td>\n",
              "      <td>₹34,990</td>\n",
              "      <td>4.3</td>\n",
              "    </tr>\n",
              "    <tr>\n",
              "      <th>6</th>\n",
              "      <td>acer Aspire 7 Ryzen 5 Hexa Core 5500U - (8 GB/...</td>\n",
              "      <td>₹54,990</td>\n",
              "      <td>4.5</td>\n",
              "    </tr>\n",
              "    <tr>\n",
              "      <th>7</th>\n",
              "      <td>MSI Bravo Ryzen 5 Hexa Core 5600H - (8 GB/512 ...</td>\n",
              "      <td>₹57,990</td>\n",
              "      <td>4.6</td>\n",
              "    </tr>\n",
              "    <tr>\n",
              "      <th>8</th>\n",
              "      <td>HP Pavilion Ryzen 5 Hexa Core 5600H - (8 GB/51...</td>\n",
              "      <td>₹59,990</td>\n",
              "      <td>4.5</td>\n",
              "    </tr>\n",
              "    <tr>\n",
              "      <th>9</th>\n",
              "      <td>DELL Vostro Core i3 10th Gen - (8 GB/1 TB HDD/...</td>\n",
              "      <td>₹37,990</td>\n",
              "      <td>4</td>\n",
              "    </tr>\n",
              "    <tr>\n",
              "      <th>10</th>\n",
              "      <td>HP 15-ec1105AX Ryzen 5 Hexa Core 4600H - (8 GB...</td>\n",
              "      <td>₹61,990</td>\n",
              "      <td>4.5</td>\n",
              "    </tr>\n",
              "    <tr>\n",
              "      <th>11</th>\n",
              "      <td>ASUS Ryzen 3 Dual Core 3250U 3rd Gen - (8 GB/2...</td>\n",
              "      <td>₹37,990</td>\n",
              "      <td>4.3</td>\n",
              "    </tr>\n",
              "    <tr>\n",
              "      <th>12</th>\n",
              "      <td>Lenovo IdeaPad 3 Core i3 10th Gen - (8 GB/1 TB...</td>\n",
              "      <td>₹38,990</td>\n",
              "      <td>4.2</td>\n",
              "    </tr>\n",
              "    <tr>\n",
              "      <th>13</th>\n",
              "      <td>DELL G15 Core i5 10th Gen - (8 GB/512 GB SSD/W...</td>\n",
              "      <td>₹59,990</td>\n",
              "      <td>4.3</td>\n",
              "    </tr>\n",
              "    <tr>\n",
              "      <th>14</th>\n",
              "      <td>DELL G15 Ryzen 5 Hexa Core 5600H - (8 GB/512 G...</td>\n",
              "      <td>₹69,990</td>\n",
              "      <td>4.6</td>\n",
              "    </tr>\n",
              "    <tr>\n",
              "      <th>15</th>\n",
              "      <td>acer Aspire 3 Ryzen 5 Quad Core 3500U - (8 GB/...</td>\n",
              "      <td>₹45,990</td>\n",
              "      <td>4.5</td>\n",
              "    </tr>\n",
              "    <tr>\n",
              "      <th>16</th>\n",
              "      <td>MSI GF63 Thin Core i7 10th Gen - (16 GB/512 GB...</td>\n",
              "      <td>₹76,990</td>\n",
              "      <td>4.6</td>\n",
              "    </tr>\n",
              "    <tr>\n",
              "      <th>17</th>\n",
              "      <td>Lenovo Ideapad Slim 5i Core i5 11th Gen - (16 ...</td>\n",
              "      <td>₹63,990</td>\n",
              "      <td>4.4</td>\n",
              "    </tr>\n",
              "    <tr>\n",
              "      <th>18</th>\n",
              "      <td>ASUS TUF Gaming F15 Core i5 10th Gen - (8 GB/5...</td>\n",
              "      <td>₹60,990</td>\n",
              "      <td>4.4</td>\n",
              "    </tr>\n",
              "    <tr>\n",
              "      <th>19</th>\n",
              "      <td>APPLE MacBook Air M1 - (8 GB/256 GB SSD/Mac OS...</td>\n",
              "      <td>₹88,990</td>\n",
              "      <td>4.7</td>\n",
              "    </tr>\n",
              "    <tr>\n",
              "      <th>20</th>\n",
              "      <td>DELL Inspiron Ryzen 5 Quad Core 3450U - (8 GB/...</td>\n",
              "      <td>₹39,990</td>\n",
              "      <td>4.3</td>\n",
              "    </tr>\n",
              "    <tr>\n",
              "      <th>21</th>\n",
              "      <td>HP Pavilion Core i5 11th Gen - (16 GB/512 GB S...</td>\n",
              "      <td>₹66,990</td>\n",
              "      <td>4.5</td>\n",
              "    </tr>\n",
              "    <tr>\n",
              "      <th>22</th>\n",
              "      <td>ASUS Vivobook Gaming Core i5 9th Gen - (8 GB/5...</td>\n",
              "      <td>₹49,990</td>\n",
              "      <td>4.4</td>\n",
              "    </tr>\n",
              "    <tr>\n",
              "      <th>23</th>\n",
              "      <td>ASUS VivoBook 15 (2021) Core i5 11th Gen - (8 ...</td>\n",
              "      <td>₹54,990</td>\n",
              "      <td>4.3</td>\n",
              "    </tr>\n",
              "  </tbody>\n",
              "</table>\n",
              "</div>"
            ],
            "text/plain": [
              "                                         Product Name   Prices Ratings\n",
              "0   DELL Inspiron Ryzen 5 Quad Core 3450U - (8 GB/...  ₹39,990     4.4\n",
              "1   HP Ryzen 3 Dual Core 3250U - (8 GB/256 GB SSD/...  ₹38,990     4.4\n",
              "2   ASUS VivoBook 15 (2021) Core i3 11th Gen - (4 ...  ₹36,990     4.3\n",
              "3   acer Aspire 7 Core i5 10th Gen - (8 GB/512 GB ...  ₹52,990     4.4\n",
              "4   DELL Vostro Core i3 11th Gen - (8 GB/256 GB SS...  ₹41,990     4.3\n",
              "5   ASUS VivoBook 15 Ryzen 3 Dual Core - (4 GB/256...  ₹34,990     4.3\n",
              "6   acer Aspire 7 Ryzen 5 Hexa Core 5500U - (8 GB/...  ₹54,990     4.5\n",
              "7   MSI Bravo Ryzen 5 Hexa Core 5600H - (8 GB/512 ...  ₹57,990     4.6\n",
              "8   HP Pavilion Ryzen 5 Hexa Core 5600H - (8 GB/51...  ₹59,990     4.5\n",
              "9   DELL Vostro Core i3 10th Gen - (8 GB/1 TB HDD/...  ₹37,990       4\n",
              "10  HP 15-ec1105AX Ryzen 5 Hexa Core 4600H - (8 GB...  ₹61,990     4.5\n",
              "11  ASUS Ryzen 3 Dual Core 3250U 3rd Gen - (8 GB/2...  ₹37,990     4.3\n",
              "12  Lenovo IdeaPad 3 Core i3 10th Gen - (8 GB/1 TB...  ₹38,990     4.2\n",
              "13  DELL G15 Core i5 10th Gen - (8 GB/512 GB SSD/W...  ₹59,990     4.3\n",
              "14  DELL G15 Ryzen 5 Hexa Core 5600H - (8 GB/512 G...  ₹69,990     4.6\n",
              "15  acer Aspire 3 Ryzen 5 Quad Core 3500U - (8 GB/...  ₹45,990     4.5\n",
              "16  MSI GF63 Thin Core i7 10th Gen - (16 GB/512 GB...  ₹76,990     4.6\n",
              "17  Lenovo Ideapad Slim 5i Core i5 11th Gen - (16 ...  ₹63,990     4.4\n",
              "18  ASUS TUF Gaming F15 Core i5 10th Gen - (8 GB/5...  ₹60,990     4.4\n",
              "19  APPLE MacBook Air M1 - (8 GB/256 GB SSD/Mac OS...  ₹88,990     4.7\n",
              "20  DELL Inspiron Ryzen 5 Quad Core 3450U - (8 GB/...  ₹39,990     4.3\n",
              "21  HP Pavilion Core i5 11th Gen - (16 GB/512 GB S...  ₹66,990     4.5\n",
              "22  ASUS Vivobook Gaming Core i5 9th Gen - (8 GB/5...  ₹49,990     4.4\n",
              "23  ASUS VivoBook 15 (2021) Core i5 11th Gen - (8 ...  ₹54,990     4.3"
            ]
          },
          "metadata": {},
          "execution_count": 8
        }
      ]
    },
    {
      "cell_type": "markdown",
      "source": [
        "#Store the result in csv format."
      ],
      "metadata": {
        "id": "LaL4Ge8x3p1A"
      }
    },
    {
      "cell_type": "code",
      "source": [
        "data.to_csv('products.csv')"
      ],
      "metadata": {
        "id": "T4TE6-AH3kxZ"
      },
      "execution_count": 9,
      "outputs": []
    }
  ]
}